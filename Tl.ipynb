{
  "nbformat": 4,
  "nbformat_minor": 0,
  "metadata": {
    "colab": {
      "provenance": [],
      "include_colab_link": true
    },
    "kernelspec": {
      "name": "python3",
      "display_name": "Python 3"
    },
    "language_info": {
      "name": "python"
    }
  },
  "cells": [
    {
      "cell_type": "markdown",
      "metadata": {
        "id": "view-in-github",
        "colab_type": "text"
      },
      "source": [
        "<a href=\"https://colab.research.google.com/github/antrxc/Trial_File/blob/main/Tl.ipynb\" target=\"_parent\"><img src=\"https://colab.research.google.com/assets/colab-badge.svg\" alt=\"Open In Colab\"/></a>"
      ]
    },
    {
      "cell_type": "code",
      "execution_count": null,
      "metadata": {
        "colab": {
          "base_uri": "https://localhost:8080/"
        },
        "id": "Y9QBkuVVDXHg",
        "outputId": "8fb10d51-7a0e-407d-8baf-13528388c2d6",
        "collapsed": true
      },
      "outputs": [
        {
          "output_type": "stream",
          "name": "stdout",
          "text": [
            "HTTP/1.1 200 OK\r\n",
            "Accept-Ranges: bytes\r\n",
            "Age: 300555\r\n",
            "Cache-Control: max-age=604800\r\n",
            "Content-Type: text/html; charset=UTF-8\r\n",
            "Date: Mon, 02 Dec 2024 06:28:36 GMT\r\n",
            "Etag: \"3147526947+gzip\"\r\n",
            "Expires: Mon, 09 Dec 2024 06:28:36 GMT\r\n",
            "Last-Modified: Thu, 17 Oct 2019 07:18:26 GMT\r\n",
            "Server: ECAcc (dcd/7D76)\r\n",
            "Vary: Accept-Encoding\r\n",
            "X-Cache: HIT\r\n",
            "Content-Length: 1256\r\n",
            "Connection: close\r\n",
            "\r\n",
            "<!doctype html>\n",
            "<html>\n",
            "<head>\n",
            "    <title>Example Domain</title>\n",
            "\n",
            "    <meta charset=\"utf-8\" />\n",
            "    <meta http-equiv=\"Content-type\" content=\"text/html; charset=utf-8\" />\n",
            "    <meta name=\"viewport\" content=\"width=device-width, initial-scale=1\" />\n",
            "    <style type=\"text/css\">\n",
            "    body {\n",
            "        background-color: #f0f0f2;\n",
            "        margin: 0;\n",
            "        padding: 0;\n",
            "        font-family: -apple-system, system-ui, BlinkMacSystemFont, \"Segoe UI\", \"Open Sans\", \"Helvetica Neue\", Helvetica, Arial, sans-serif;\n",
            "        \n",
            "    }\n",
            "    div {\n",
            "        width: 600px;\n",
            "        margin: 5em auto;\n",
            "        padding: 2em;\n",
            "        background-color: #fdfdff;\n",
            "        border-radius: 0.5em;\n",
            "        box-shadow: 2px 3px 7px 2px rgba(0,0,0,0.02);\n",
            "    }\n",
            "    a:link, a:visited {\n",
            "        color: #38488f;\n",
            "        text-decoration: none;\n",
            "    }\n",
            "    @media (max-width: 700px) {\n",
            "        div {\n",
            "            margin: 0 auto;\n",
            "            width: auto;\n",
            "        }\n",
            "    }\n",
            "    </style>    \n",
            "</head>\n",
            "\n",
            "<body>\n",
            "<div>\n",
            "    <h1>Example Domain</h1>\n",
            "    <p>This domain is for use in illustrative examples in documents. You may use this\n",
            "    domain in literature without prior coordination or asking for permission.</p>\n",
            "    <p><a href=\"https://www.iana.org/domains/example\">More information...</a></p>\n",
            "</div>\n",
            "</body>\n",
            "</html>\n",
            "\n"
          ]
        }
      ],
      "source": [
        "#HTTP web client program: download webpage using TCP\n",
        "import socket\n",
        "hostname = \"example.com\"\n",
        "page = \"/\"\n",
        "sock = socket.socket(socket.AF_INET, socket.SOCK_STREAM)\n",
        "sock.connect((hostname, 80))\n",
        "try:\n",
        "    request = f\"GET {page} HTTP/1.1\\r\\nHost: {hostname}\\r\\nConnection: close\\r\\n\\r\\n\"\n",
        "    sock.sendall(request.encode())\n",
        "    response = b\"\"\n",
        "    while True:\n",
        "        data = sock.recv(4096)\n",
        "        if not data:\n",
        "            break\n",
        "        response += data\n",
        "    response_msg = response.decode()\n",
        "    print(response_msg)\n",
        "finally:\n",
        "    sock.close()"
      ]
    },
    {
      "cell_type": "code",
      "source": [
        "#chat application using UDP\n",
        "# server program\n",
        "import socket\n",
        "def udp_server(host=\"localhost\", port=12345):\n",
        "    with socket.socket(socket.AF_INET, socket.SOCK_DGRAM) as server_socket:\n",
        "        server_socket.bind((host, port))\n",
        "        print(f\"UDP server listening on {host}:{port}\")\n",
        "        while True:\n",
        "            data, addr = server_socket.recvfrom(1024)\n",
        "            print(f\"Received message: {data.decode()} from {addr}\")\n",
        "            response = \"Message received\"\n",
        "            server_socket.sendto(response.encode(), addr)\n",
        "if __name__ == \"__main__\":\n",
        "    udp_server()"
      ],
      "metadata": {
        "colab": {
          "base_uri": "https://localhost:8080/",
          "height": 315
        },
        "id": "JdQTRS0WDyAr",
        "outputId": "c1fd6b10-d0b3-4f37-cba3-e920fad521dd",
        "collapsed": true
      },
      "execution_count": null,
      "outputs": [
        {
          "metadata": {
            "tags": null
          },
          "name": "stdout",
          "output_type": "stream",
          "text": [
            "UDP listening on localhost:12345\n"
          ]
        },
        {
          "output_type": "error",
          "ename": "KeyboardInterrupt",
          "evalue": "",
          "traceback": [
            "\u001b[0;31m---------------------------------------------------------------------------\u001b[0m",
            "\u001b[0;31mKeyboardInterrupt\u001b[0m                         Traceback (most recent call last)",
            "\u001b[0;32m<ipython-input-3-137d737f860d>\u001b[0m in \u001b[0;36m<cell line: 13>\u001b[0;34m()\u001b[0m\n\u001b[1;32m     12\u001b[0m       \u001b[0mserver_socket\u001b[0m\u001b[0;34m.\u001b[0m\u001b[0msendto\u001b[0m\u001b[0;34m(\u001b[0m\u001b[0mresponse\u001b[0m\u001b[0;34m.\u001b[0m\u001b[0mencode\u001b[0m\u001b[0;34m(\u001b[0m\u001b[0;34m)\u001b[0m\u001b[0;34m,\u001b[0m\u001b[0maddr\u001b[0m\u001b[0;34m)\u001b[0m\u001b[0;34m\u001b[0m\u001b[0;34m\u001b[0m\u001b[0m\n\u001b[1;32m     13\u001b[0m \u001b[0;32mif\u001b[0m \u001b[0m__name__\u001b[0m\u001b[0;34m==\u001b[0m\u001b[0;34m\"__main__\"\u001b[0m\u001b[0;34m:\u001b[0m\u001b[0;34m\u001b[0m\u001b[0;34m\u001b[0m\u001b[0m\n\u001b[0;32m---> 14\u001b[0;31m   \u001b[0mudp_server\u001b[0m\u001b[0;34m(\u001b[0m\u001b[0;34m)\u001b[0m\u001b[0;34m\u001b[0m\u001b[0;34m\u001b[0m\u001b[0m\n\u001b[0m",
            "\u001b[0;32m<ipython-input-3-137d737f860d>\u001b[0m in \u001b[0;36mudp_server\u001b[0;34m(host, port)\u001b[0m\n\u001b[1;32m      7\u001b[0m     \u001b[0mprint\u001b[0m\u001b[0;34m(\u001b[0m\u001b[0;34mf\"UDP listening on {host}:{port}\"\u001b[0m\u001b[0;34m)\u001b[0m\u001b[0;34m\u001b[0m\u001b[0;34m\u001b[0m\u001b[0m\n\u001b[1;32m      8\u001b[0m     \u001b[0;32mwhile\u001b[0m \u001b[0;32mTrue\u001b[0m\u001b[0;34m:\u001b[0m\u001b[0;34m\u001b[0m\u001b[0;34m\u001b[0m\u001b[0m\n\u001b[0;32m----> 9\u001b[0;31m       \u001b[0mdata\u001b[0m\u001b[0;34m,\u001b[0m\u001b[0maddr\u001b[0m\u001b[0;34m=\u001b[0m\u001b[0mserver_socket\u001b[0m\u001b[0;34m.\u001b[0m\u001b[0mrecv\u001b[0m\u001b[0;34m(\u001b[0m\u001b[0;36m1024\u001b[0m\u001b[0;34m)\u001b[0m\u001b[0;34m\u001b[0m\u001b[0;34m\u001b[0m\u001b[0m\n\u001b[0m\u001b[1;32m     10\u001b[0m       \u001b[0mprint\u001b[0m\u001b[0;34m(\u001b[0m\u001b[0;34mf\"Received message:{data.decode()} from {addr}\"\u001b[0m\u001b[0;34m)\u001b[0m\u001b[0;34m\u001b[0m\u001b[0;34m\u001b[0m\u001b[0m\n\u001b[1;32m     11\u001b[0m       \u001b[0mresponse\u001b[0m\u001b[0;34m=\u001b[0m\u001b[0;34m\"message received\"\u001b[0m\u001b[0;34m\u001b[0m\u001b[0;34m\u001b[0m\u001b[0m\n",
            "\u001b[0;31mKeyboardInterrupt\u001b[0m: "
          ]
        }
      ]
    },
    {
      "cell_type": "code",
      "source": [
        "#chat application using UDP\n",
        "# client program\n",
        "import socket\n",
        "def udp_client(message, server_host=\"localhost\", server_port=12345):\n",
        "    with socket.socket(socket.AF_INET, socket.SOCK_DGRAM) as client_socket:\n",
        "        client_socket.sendto(message.encode(), (server_host, server_port))\n",
        "        data, addr = client_socket.recvfrom(1024)\n",
        "        print(f\"Message from server: {data.decode()}\")\n",
        "if __name__ == \"__main__\":\n",
        "    udp_client(\"hello, sup?\")"
      ],
      "metadata": {
        "colab": {
          "base_uri": "https://localhost:8080/",
          "height": 297
        },
        "id": "rS6VehVKKxPN",
        "outputId": "c9e75d1a-f801-4c9f-8754-8610b431ad6c",
        "collapsed": true
      },
      "execution_count": null,
      "outputs": [
        {
          "output_type": "error",
          "ename": "KeyboardInterrupt",
          "evalue": "",
          "traceback": [
            "\u001b[0;31m---------------------------------------------------------------------------\u001b[0m",
            "\u001b[0;31mKeyboardInterrupt\u001b[0m                         Traceback (most recent call last)",
            "\u001b[0;32m<ipython-input-4-23e0eb3140cb>\u001b[0m in \u001b[0;36m<cell line: 9>\u001b[0;34m()\u001b[0m\n\u001b[1;32m      8\u001b[0m     \u001b[0mprint\u001b[0m\u001b[0;34m(\u001b[0m\u001b[0;34mf\"message from server:{data.decode()}\"\u001b[0m\u001b[0;34m)\u001b[0m\u001b[0;34m\u001b[0m\u001b[0;34m\u001b[0m\u001b[0m\n\u001b[1;32m      9\u001b[0m \u001b[0;32mif\u001b[0m \u001b[0m__name__\u001b[0m\u001b[0;34m==\u001b[0m\u001b[0;34m\"__main__\"\u001b[0m\u001b[0;34m:\u001b[0m\u001b[0;34m\u001b[0m\u001b[0;34m\u001b[0m\u001b[0m\n\u001b[0;32m---> 10\u001b[0;31m   \u001b[0mudp_client\u001b[0m\u001b[0;34m(\u001b[0m\u001b[0;34m\"hello, sup?\"\u001b[0m\u001b[0;34m)\u001b[0m\u001b[0;34m\u001b[0m\u001b[0;34m\u001b[0m\u001b[0m\n\u001b[0m",
            "\u001b[0;32m<ipython-input-4-23e0eb3140cb>\u001b[0m in \u001b[0;36mudp_client\u001b[0;34m(message, server_host, server_port)\u001b[0m\n\u001b[1;32m      5\u001b[0m   \u001b[0;32mwith\u001b[0m \u001b[0msocket\u001b[0m\u001b[0;34m.\u001b[0m\u001b[0msocket\u001b[0m\u001b[0;34m(\u001b[0m\u001b[0msocket\u001b[0m\u001b[0;34m.\u001b[0m\u001b[0mAF_INET\u001b[0m\u001b[0;34m,\u001b[0m\u001b[0msocket\u001b[0m\u001b[0;34m.\u001b[0m\u001b[0mSOCK_DGRAM\u001b[0m\u001b[0;34m)\u001b[0m \u001b[0;32mas\u001b[0m \u001b[0mclient_socket\u001b[0m\u001b[0;34m:\u001b[0m\u001b[0;34m\u001b[0m\u001b[0;34m\u001b[0m\u001b[0m\n\u001b[1;32m      6\u001b[0m     \u001b[0mclient_socket\u001b[0m\u001b[0;34m.\u001b[0m\u001b[0msendto\u001b[0m\u001b[0;34m(\u001b[0m\u001b[0mmessage\u001b[0m\u001b[0;34m.\u001b[0m\u001b[0mencode\u001b[0m\u001b[0;34m(\u001b[0m\u001b[0;34m)\u001b[0m\u001b[0;34m,\u001b[0m\u001b[0;34m(\u001b[0m\u001b[0mserver_host\u001b[0m\u001b[0;34m,\u001b[0m\u001b[0mserver_port\u001b[0m\u001b[0;34m)\u001b[0m\u001b[0;34m)\u001b[0m\u001b[0;34m\u001b[0m\u001b[0;34m\u001b[0m\u001b[0m\n\u001b[0;32m----> 7\u001b[0;31m     \u001b[0mdata\u001b[0m\u001b[0;34m,\u001b[0m\u001b[0maddr\u001b[0m\u001b[0;34m=\u001b[0m\u001b[0mclient_socket\u001b[0m\u001b[0;34m.\u001b[0m\u001b[0mrecv\u001b[0m\u001b[0;34m(\u001b[0m\u001b[0;36m1024\u001b[0m\u001b[0;34m)\u001b[0m\u001b[0;34m\u001b[0m\u001b[0;34m\u001b[0m\u001b[0m\n\u001b[0m\u001b[1;32m      8\u001b[0m     \u001b[0mprint\u001b[0m\u001b[0;34m(\u001b[0m\u001b[0;34mf\"message from server:{data.decode()}\"\u001b[0m\u001b[0;34m)\u001b[0m\u001b[0;34m\u001b[0m\u001b[0;34m\u001b[0m\u001b[0m\n\u001b[1;32m      9\u001b[0m \u001b[0;32mif\u001b[0m \u001b[0m__name__\u001b[0m\u001b[0;34m==\u001b[0m\u001b[0;34m\"__main__\"\u001b[0m\u001b[0;34m:\u001b[0m\u001b[0;34m\u001b[0m\u001b[0;34m\u001b[0m\u001b[0m\n",
            "\u001b[0;31mKeyboardInterrupt\u001b[0m: "
          ]
        }
      ]
    },
    {
      "cell_type": "code",
      "source": [
        "#chat application using TCP\n",
        "#sever program\n",
        "import socket\n",
        "def tcp_server(host=\"localhost\",port=12345):\n",
        "  with socket.socket(socket.AF_INET,socket.SOCK_STREAM) as socket_server:\n",
        "      socket_server.bind((host,port))\n",
        "      socket_server.listen(1)\n",
        "      print(f\"tcp sever listening {host}:{port}\")\n",
        "      while True:\n",
        "        conn,addr=socket_server.accept()\n",
        "        with conn:\n",
        "          data=conn.recv(1024)\n",
        "          if not data:\n",
        "            break\n",
        "          print(f\"message received {data.decode()}\")\n",
        "          response=\"message received\"\n",
        "          conn.sendall(response.encode())\n",
        "if __name__==\"__main__\":\n",
        "  tcp_server()"
      ],
      "metadata": {
        "id": "0Xb5tgt0Pc74"
      },
      "execution_count": null,
      "outputs": []
    },
    {
      "cell_type": "code",
      "source": [
        "#chat application using TCP\n",
        "# client program\n",
        "import socket\n",
        "def tcp_client(message,server_host=\"localhost\",server_port=12345):\n",
        "    with socket.socket(socket.AF_INET,socket.SOCK_STREAM) as client_socket:\n",
        "        client_socket.connect((server_host,server_port))\n",
        "        client_socket.sendall(message.encode())\n",
        "        data=client_socket.recv(1024)\n",
        "        print(f\"message received from server : {data.decode()}\")\n",
        "if __name__ == \"__main__\":\n",
        "    tcp_client(\"hello\")"
      ],
      "metadata": {
        "id": "H_Dq1nO8tGsE"
      },
      "execution_count": null,
      "outputs": []
    },
    {
      "cell_type": "code",
      "source": [
        "def divide(code_word, generator):\n",
        "    pointer = len(generator)\n",
        "    result = code_word[:pointer]\n",
        "    remainder = \"\"\n",
        "    for i in range(len(generator)):\n",
        "        remainder += '0' if result[i] == generator[i] else '1'\n",
        "    while pointer < len(code_word):\n",
        "        if remainder[0] == '0':\n",
        "            remainder = remainder[1:] + code_word[pointer]\n",
        "        else:\n",
        "            remainder = remainder[1:] + code_word[pointer]\n",
        "        pointer += 1\n",
        "    result = remainder\n",
        "    remainder = \"\"\n",
        "    for i in range(len(generator)):\n",
        "        remainder += '0' if result[i] == generator[i] else '1'\n",
        "    return remainder[1:]\n",
        "\n",
        "def main():\n",
        "    generator = input(\"Enter Generator: \")\n",
        "    data = input(\"Enter Data: \")\n",
        "    code_word = data + '0' * (len(generator) - 1)\n",
        "    remainder = divide(code_word, generator)\n",
        "    transmitted_code = data + remainder\n",
        "    print(\"The transmitted Code Word is:\", transmitted_code)\n",
        "    received_code_word = input(\"Please enter the received Code Word: \")\n",
        "    if divide(received_code_word, generator) == '0' * (len(generator)-1):\n",
        "        print(\"The received code word contains no errors.\")\n",
        "    else:\n",
        "        print(\"The received code word contains errors.\")\n",
        "\n",
        "if __name__ == \"__main__\":\n",
        "    main()\n"
      ],
      "metadata": {
        "colab": {
          "base_uri": "https://localhost:8080/"
        },
        "id": "auIzpWcP0jTx",
        "outputId": "cfdd886c-a2ae-487e-e0fb-de00af064f37"
      },
      "execution_count": null,
      "outputs": [
        {
          "output_type": "stream",
          "name": "stdout",
          "text": [
            "Enter Generator: 1011\n",
            "Enter Data: 101010\n",
            "The transmitted Code Word is: 101010011\n",
            "Please enter the received Code Word: 111111000\n",
            "The received code word contains errors.\n"
          ]
        }
      ]
    },
    {
      "cell_type": "code",
      "source": [
        "#distance vector routing\n",
        "class Router:\n",
        "    def __init__(self, name):\n",
        "        self.name = name\n",
        "        self.neighbors = {}\n",
        "        self.routing_table = {}\n",
        "\n",
        "    def add_neighbor(self, neighbor, distance):\n",
        "        self.neighbors[neighbor] = distance\n",
        "        self.routing_table[neighbor] = distance\n",
        "\n",
        "    def update_routing_table(self, received_table, neighbor_name, distance_to_neighbor):\n",
        "        updated = False\n",
        "        for dest, dist in received_table.items():\n",
        "            new_distance = distance_to_neighbor + dist\n",
        "            if dest not in self.routing_table or new_distance < self.routing_table[dest]:\n",
        "                self.routing_table[dest] = new_distance\n",
        "                updated = True\n",
        "        return updated\n",
        "\n",
        "\n",
        "class Network:\n",
        "    def __init__(self):\n",
        "        self.routers = {}\n",
        "\n",
        "    def add_router(self, name):\n",
        "        self.routers[name] = Router(name)\n",
        "\n",
        "    def add_link(self, router1, router2, distance):\n",
        "        self.routers[router1].add_neighbor(router2, distance)\n",
        "        self.routers[router2].add_neighbor(router1, distance)\n",
        "\n",
        "    def exchange_tables(self):\n",
        "        updates = True\n",
        "        while updates:\n",
        "            updates = False\n",
        "            for router in self.routers.values():\n",
        "                for neighbor_name, distance in router.neighbors.items():\n",
        "                    neighbor_router = self.routers[neighbor_name]\n",
        "                    if router.update_routing_table(neighbor_router.routing_table, neighbor_name, distance):\n",
        "                        updates = True\n",
        "\n",
        "    def display_routing_tables(self):\n",
        "        for router in self.routers.values():\n",
        "            print(f\"Routing Table for {router.name}:\")\n",
        "            for dest, dist in router.routing_table.items():\n",
        "                print(f\"  {dest}: {dist}\")\n",
        "            print()\n",
        "\n",
        "network = Network()\n",
        "\n",
        "network.add_router('A')\n",
        "network.add_router('B')\n",
        "network.add_router('C')\n",
        "network.add_router('D')\n",
        "\n",
        "network.add_link('A', 'B', 1)\n",
        "network.add_link('A', 'C', 4)\n",
        "network.add_link('B', 'C', 2)\n",
        "network.add_link('B', 'D', 6)\n",
        "network.add_link('C', 'D', 3)\n",
        "\n",
        "print(\"Before exchanging routing tables:\")\n",
        "network.display_routing_tables()\n",
        "\n",
        "network.exchange_tables()\n",
        "\n",
        "print(\"After exchanging routing tables:\")\n",
        "network.display_routing_tables()"
      ],
      "metadata": {
        "collapsed": true,
        "colab": {
          "base_uri": "https://localhost:8080/"
        },
        "id": "Z1O-RD3DMEBA",
        "outputId": "3e9db2fa-72c3-4158-98c1-2fe4b8eee826"
      },
      "execution_count": null,
      "outputs": [
        {
          "output_type": "stream",
          "name": "stdout",
          "text": [
            "Before exchanging routing tables:\n",
            "Routing Table for A:\n",
            "  B: 1\n",
            "  C: 4\n",
            "\n",
            "Routing Table for B:\n",
            "  A: 1\n",
            "  C: 2\n",
            "  D: 6\n",
            "\n",
            "Routing Table for C:\n",
            "  A: 4\n",
            "  B: 2\n",
            "  D: 3\n",
            "\n",
            "Routing Table for D:\n",
            "  B: 6\n",
            "  C: 3\n",
            "\n",
            "After exchanging routing tables:\n",
            "Routing Table for A:\n",
            "  B: 1\n",
            "  C: 3\n",
            "  A: 2\n",
            "  D: 6\n",
            "\n",
            "Routing Table for B:\n",
            "  A: 1\n",
            "  C: 2\n",
            "  D: 5\n",
            "  B: 2\n",
            "\n",
            "Routing Table for C:\n",
            "  A: 3\n",
            "  B: 2\n",
            "  D: 3\n",
            "  C: 4\n",
            "\n",
            "Routing Table for D:\n",
            "  B: 5\n",
            "  C: 3\n",
            "  A: 6\n",
            "  D: 6\n",
            "\n"
          ]
        }
      ]
    }
  ]
}